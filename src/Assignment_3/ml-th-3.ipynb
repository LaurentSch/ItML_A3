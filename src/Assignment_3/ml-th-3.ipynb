{
 "cells": [
  {
   "cell_type": "code",
   "execution_count": 16,
   "metadata": {},
   "outputs": [],
   "source": [
    "import numpy as np\n"
   ]
  },
  {
   "cell_type": "code",
   "execution_count": 17,
   "metadata": {},
   "outputs": [],
   "source": [
    "def sigmoid(x):\n",
    "    return 1 / (1 + np.exp(-x))\n"
   ]
  },
  {
   "cell_type": "code",
   "execution_count": 18,
   "metadata": {},
   "outputs": [],
   "source": [
    "def sigmoid_derivative(x):\n",
    "    return x * (1 - x)"
   ]
  },
  {
   "cell_type": "code",
   "execution_count": 19,
   "metadata": {},
   "outputs": [],
   "source": [
    "def cross_entropy(y_pred, y_true):\n",
    "    # Ensure prediction is not exactly 0 or 1\n",
    "    y_pred = np.clip(y_pred, 1e-12, 1 - 1e-12)\n",
    "    # Calculate cross-entropy loss\n",
    "    return -np.mean(y_true * np.log(y_pred) + (1 - y_true) * np.log(1 - y_pred))\n"
   ]
  },
  {
   "cell_type": "code",
   "execution_count": 20,
   "metadata": {},
   "outputs": [],
   "source": [
    "class MLP:\n",
    "    def __init__(self):\n",
    "        # Initialize weights and biases\n",
    "        self.weights1 = np.random.rand(2, 10)\n",
    "        self.weights2 = np.random.rand(10, 10)\n",
    "        self.weights3 = np.random.rand(10, 2)\n",
    "        self.bias1 = np.random.rand(1, 10)\n",
    "        self.bias2 = np.random.rand(1, 10)\n",
    "        self.bias3 = np.random.rand(1, 2)\n",
    "\n",
    "    def forward(self, X):\n",
    "        self.layer1 = sigmoid(np.dot(X, self.weights1) + self.bias1)\n",
    "        self.layer2 = sigmoid(np.dot(self.layer1, self.weights2) + self.bias2)\n",
    "        self.output = sigmoid(np.dot(self.layer2, self.weights3) + self.bias3)\n",
    "        return self.output\n",
    "\n",
    "    def backward(self, X, y, learning_rate):\n",
    "        # error (pred - label)\n",
    "        output_layer_error = self.output - y\n",
    "\n",
    "        # deriv. for weights and biases\n",
    "        d_weights3 = np.dot(self.layer2.T, output_layer_error)\n",
    "        d_bias3 = np.sum(output_layer_error, axis=0, keepdims=True)\n",
    "\n",
    "        # backpropagation\n",
    "        hidden_layer_error2 = np.dot(output_layer_error, self.weights3.T) * sigmoid_derivative(self.layer2)\n",
    "        d_weights2 = np.dot(self.layer1.T, hidden_layer_error2)\n",
    "        d_bias2 = np.sum(hidden_layer_error2, axis=0, keepdims=True)\n",
    "\n",
    "        hidden_layer_error1 = np.dot(hidden_layer_error2, self.weights2.T) * sigmoid_derivative(self.layer1)\n",
    "        d_weights1 = np.dot(X.T, hidden_layer_error1)\n",
    "        d_bias1 = np.sum(hidden_layer_error1, axis=0, keepdims=True)\n",
    "\n",
    "        # Update weights and bias\n",
    "        self.weights3 -= learning_rate * d_weights3\n",
    "        self.bias3 -= learning_rate * d_bias3\n",
    "        self.weights2 -= learning_rate * d_weights2\n",
    "        self.bias2 -= learning_rate * d_bias2\n",
    "        self.weights1 -= learning_rate * d_weights1\n",
    "        self.bias1 -= learning_rate * d_bias1\n",
    "\n",
    "\n",
    "    def train(self, X_train, y_train, epochs, learning_rate):\n",
    "        for epoch in range(epochs):\n",
    "            # Forward pass\n",
    "            self.forward(X_train)\n",
    "\n",
    "            # Backward pass and weight update\n",
    "            self.backward(X_train, y_train, learning_rate)\n",
    "\n",
    "            # Print the loss every 10 epochs\n",
    "            if epoch % 10 == 0:\n",
    "                loss = cross_entropy(self.forward(X_train), y_train)\n",
    "                print(f\"Epoch {epoch}, Current loss: {loss}\")\n"
   ]
  },
  {
   "cell_type": "code",
   "execution_count": 21,
   "metadata": {},
   "outputs": [
    {
     "data": {
      "text/plain": [
       "((410, 2), (410, 2), (82, 2), (82, 2))"
      ]
     },
     "execution_count": 21,
     "metadata": {},
     "output_type": "execute_result"
    }
   ],
   "source": [
    "import pandas as pd\n",
    "from sklearn.preprocessing import StandardScaler\n",
    "\n",
    "# Load training dataset\n",
    "train_df = pd.read_excel(\"./THA3train.xlsx\")\n",
    "X_train = train_df.iloc[:, :-1].values\n",
    "y_train = train_df.iloc[:, -1].values\n",
    "\n",
    "# One-hot encoding for two-class classification\n",
    "y_train_one_hot = np.zeros((y_train.size, y_train.max() + 1))\n",
    "y_train_one_hot[np.arange(y_train.size), y_train] = 1\n",
    "\n",
    "# Standardize training features\n",
    "scaler = StandardScaler()\n",
    "X_train_scaled = scaler.fit_transform(X_train)\n",
    "\n",
    "# Load test dataset\n",
    "test_df = pd.read_excel('./THA3validate.xlsx')\n",
    "X_test = test_df.iloc[:, :-1].values\n",
    "y_test = test_df.iloc[:, -1].values\n",
    "\n",
    "# One-hot encoding\n",
    "y_test_one_hot = np.zeros((y_test.size, y_test.max() + 1))\n",
    "y_test_one_hot[np.arange(y_test.size), y_test] = 1\n",
    "\n",
    "# Standardize\n",
    "X_test_scaled = scaler.transform(X_test)\n",
    "\n",
    "# Print shapes of the datasets\n",
    "X_train_scaled.shape, y_train_one_hot.shape, X_test_scaled.shape, y_test_one_hot.shape\n"
   ]
  },
  {
   "cell_type": "code",
   "execution_count": 22,
   "metadata": {},
   "outputs": [
    {
     "name": "stdout",
     "output_type": "stream",
     "text": [
      "Epoch 0, Current loss: 1.3994459094228213\n",
      "Epoch 10, Current loss: 1.2784985073303383\n",
      "Epoch 20, Current loss: 0.8107528222535199\n",
      "Epoch 30, Current loss: 0.6977347376851374\n",
      "Epoch 40, Current loss: 0.6815081895658498\n",
      "Epoch 50, Current loss: 0.6739459696635599\n",
      "Epoch 60, Current loss: 0.6641158296417374\n",
      "Epoch 70, Current loss: 0.6488122279119047\n",
      "Epoch 80, Current loss: 0.6246136154265507\n",
      "Epoch 90, Current loss: 0.5868643487785163\n",
      "Epoch 100, Current loss: 0.6383424188994323\n",
      "Epoch 110, Current loss: 0.589674936966094\n",
      "Epoch 120, Current loss: 0.4819336125657156\n",
      "Epoch 130, Current loss: 0.36586255054168537\n",
      "Epoch 140, Current loss: 0.3074197133039063\n",
      "Epoch 150, Current loss: 0.2868180106882213\n",
      "Epoch 160, Current loss: 0.27705140145035856\n",
      "Epoch 170, Current loss: 0.27167221764276844\n",
      "Epoch 180, Current loss: 0.2684273199151547\n",
      "Epoch 190, Current loss: 0.26619451441091463\n",
      "Epoch 200, Current loss: 0.2643977915170976\n",
      "Epoch 210, Current loss: 0.262737114368835\n",
      "Epoch 220, Current loss: 0.2610502453955818\n",
      "Epoch 230, Current loss: 0.259246180554873\n",
      "Epoch 240, Current loss: 0.2572730012872507\n",
      "Epoch 250, Current loss: 0.2551005830737526\n",
      "Epoch 260, Current loss: 0.25270848812033664\n",
      "Epoch 270, Current loss: 0.2500759201691702\n",
      "Epoch 280, Current loss: 0.24717505074048357\n",
      "Epoch 290, Current loss: 0.24396976939031123\n",
      "Epoch 300, Current loss: 0.240419646158897\n",
      "Epoch 310, Current loss: 0.23648681350878406\n",
      "Epoch 320, Current loss: 0.23214324268062406\n",
      "Epoch 330, Current loss: 0.22737672578744642\n",
      "Epoch 340, Current loss: 0.2221946696106671\n",
      "Epoch 350, Current loss: 0.21662527199732173\n",
      "Epoch 360, Current loss: 0.2107160634192301\n",
      "Epoch 370, Current loss: 0.20453044360289976\n",
      "Epoch 380, Current loss: 0.198143503586917\n",
      "Epoch 390, Current loss: 0.19163833490288995\n",
      "Epoch 400, Current loss: 0.1851029726538083\n",
      "Epoch 410, Current loss: 0.17862715048813332\n",
      "Epoch 420, Current loss: 0.17229816488288593\n",
      "Epoch 430, Current loss: 0.16619602026121016\n",
      "Epoch 440, Current loss: 0.16038873039141222\n",
      "Epoch 450, Current loss: 0.15492877035465794\n",
      "Epoch 460, Current loss: 0.14985133409745205\n",
      "Epoch 470, Current loss: 0.14517453322877602\n",
      "Epoch 480, Current loss: 0.14090121015313828\n",
      "Epoch 490, Current loss: 0.1370217749782614\n",
      "Epoch 500, Current loss: 0.133517437414134\n",
      "Epoch 510, Current loss: 0.13036332745979234\n",
      "Epoch 520, Current loss: 0.12753118661415389\n",
      "Epoch 530, Current loss: 0.1249914893669194\n",
      "Epoch 540, Current loss: 0.12271498546130172\n",
      "Epoch 550, Current loss: 0.12067373038172767\n",
      "Epoch 560, Current loss: 0.11884170461227961\n",
      "Epoch 570, Current loss: 0.1171951261617175\n",
      "Epoch 580, Current loss: 0.11571254892196779\n",
      "Epoch 590, Current loss: 0.11437482117371606\n",
      "Epoch 600, Current loss: 0.1131649597843142\n",
      "Epoch 610, Current loss: 0.11206797927234094\n",
      "Epoch 620, Current loss: 0.11107070195883875\n",
      "Epoch 630, Current loss: 0.11016156584766791\n",
      "Epoch 640, Current loss: 0.10933044015732703\n",
      "Epoch 650, Current loss: 0.10856845391267463\n",
      "Epoch 660, Current loss: 0.10786784009072346\n",
      "Epoch 670, Current loss: 0.10722179600750181\n",
      "Epoch 680, Current loss: 0.10662435956455012\n",
      "Epoch 690, Current loss: 0.10607030038353357\n",
      "Epoch 700, Current loss: 0.10555502456885486\n",
      "Epoch 710, Current loss: 0.10507449173443975\n",
      "Epoch 720, Current loss: 0.10462514293682844\n",
      "Epoch 730, Current loss: 0.10420383822460393\n",
      "Epoch 740, Current loss: 0.1038078026141541\n",
      "Epoch 750, Current loss: 0.1034345794153443\n",
      "Epoch 760, Current loss: 0.10308198994668966\n",
      "Epoch 770, Current loss: 0.10274809879145366\n",
      "Epoch 780, Current loss: 0.10243118385007328\n",
      "Epoch 790, Current loss: 0.10212971053854425\n",
      "Epoch 800, Current loss: 0.10184230956618363\n",
      "Epoch 810, Current loss: 0.10156775779951646\n",
      "Epoch 820, Current loss: 0.10130496178236888\n",
      "Epoch 830, Current loss: 0.10105294353633135\n",
      "Epoch 840, Current loss: 0.10081082831151343\n",
      "Epoch 850, Current loss: 0.10057783399601433\n",
      "Epoch 860, Current loss: 0.10035326192495192\n",
      "Epoch 870, Current loss: 0.10013648885748548\n",
      "Epoch 880, Current loss: 0.0999269599143442\n",
      "Epoch 890, Current loss: 0.0997241822902591\n",
      "Epoch 900, Current loss: 0.09952771957665923\n",
      "Epoch 910, Current loss: 0.09933718655114511\n",
      "Epoch 920, Current loss: 0.09915224431245007\n",
      "Epoch 930, Current loss: 0.09897259566330713\n",
      "Epoch 940, Current loss: 0.09879798066884593\n",
      "Epoch 950, Current loss: 0.09862817234430327\n",
      "Epoch 960, Current loss: 0.0984629724518925\n",
      "Epoch 970, Current loss: 0.09830220741118054\n",
      "Epoch 980, Current loss: 0.0981457243486144\n",
      "Epoch 990, Current loss: 0.09799338732831073\n"
     ]
    }
   ],
   "source": [
    "\n",
    "\n",
    "# Initialize MLP model\n",
    "mlp = MLP()\n",
    "\n",
    "# Train model\n",
    "mlp.train(X_train_scaled, y_train_one_hot, epochs=1000, learning_rate=0.004)\n"
   ]
  },
  {
   "cell_type": "code",
   "execution_count": 23,
   "metadata": {},
   "outputs": [
    {
     "data": {
      "text/plain": [
       "(0.975609756097561,\n",
       " array([[40,  1],\n",
       "        [ 1, 40]], dtype=int64))"
      ]
     },
     "execution_count": 23,
     "metadata": {},
     "output_type": "execute_result"
    }
   ],
   "source": [
    "from sklearn.metrics import accuracy_score, confusion_matrix\n",
    "\n",
    "def evaluate_model(model, X_test, y_test):\n",
    "    # Pred\n",
    "    y_pred = model.forward(X_test)\n",
    "\n",
    "    # Convert predictions and true values to class labels\n",
    "    y_pred_labels = np.argmax(y_pred, axis=1)\n",
    "    y_true_labels = np.argmax(y_test, axis=1)\n",
    "\n",
    "    # Calculate accuracy\n",
    "    accuracy = accuracy_score(y_true_labels, y_pred_labels)\n",
    "\n",
    "    # Calculate confusion matrix\n",
    "    conf_matrix = confusion_matrix(y_true_labels, y_pred_labels)\n",
    "\n",
    "    return accuracy, conf_matrix\n",
    "\n",
    "# Evaluate the model on the validation set\n",
    "accuracy, conf_matrix = evaluate_model(mlp, X_test_scaled, y_test_one_hot)\n",
    "\n",
    "# Print the results\n",
    "accuracy, conf_matrix\n",
    "\n"
   ]
  },
  {
   "cell_type": "markdown",
   "metadata": {},
   "source": [
    "## Part B\n",
    "\n",
    "First we initialize the model with weights and biases equal to zero, instead of randomizing them."
   ]
  },
  {
   "cell_type": "code",
   "execution_count": null,
   "metadata": {},
   "outputs": [],
   "source": []
  }
 ],
 "metadata": {
  "kernelspec": {
   "display_name": "compsci",
   "language": "python",
   "name": "python3"
  },
  "language_info": {
   "codemirror_mode": {
    "name": "ipython",
    "version": 3
   },
   "file_extension": ".py",
   "mimetype": "text/x-python",
   "name": "python",
   "nbconvert_exporter": "python",
   "pygments_lexer": "ipython3",
   "version": "3.12.0"
  }
 },
 "nbformat": 4,
 "nbformat_minor": 2
}
