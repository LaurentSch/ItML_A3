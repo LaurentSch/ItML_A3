{
 "cells": [
  {
   "cell_type": "code",
   "execution_count": 193,
   "metadata": {},
   "outputs": [],
   "source": [
    "import numpy as np\n"
   ]
  },
  {
   "cell_type": "code",
   "execution_count": 194,
   "metadata": {},
   "outputs": [],
   "source": [
    "def sigmoid(x):\n",
    "    return 1 / (1 + np.exp(-x))\n"
   ]
  },
  {
   "cell_type": "code",
   "execution_count": 195,
   "metadata": {},
   "outputs": [],
   "source": [
    "def sigmoid_derivative(x):\n",
    "    return x * (1 - x)"
   ]
  },
  {
   "cell_type": "code",
   "execution_count": 196,
   "metadata": {},
   "outputs": [],
   "source": [
    "def cross_entropy(y_pred, y_true):\n",
    "    # Ensure prediction is not exactly 0 or 1\n",
    "    y_pred = np.clip(y_pred, 1e-12, 1 - 1e-12)\n",
    "    # Calculate cross-entropy loss\n",
    "    return -np.mean(y_true * np.log(y_pred) + (1 - y_true) * np.log(1 - y_pred))\n"
   ]
  },
  {
   "cell_type": "code",
   "execution_count": 197,
   "metadata": {},
   "outputs": [],
   "source": [
    "class MLP:\n",
    "    \n",
    "    def __init__(self, random_values=True):\n",
    "        # global variable to store hidden layer outputs\n",
    "        self.hidden_layer_outputs = []\n",
    "        # Ensure that the random values are always the same (for consistency and comparisons saks)\n",
    "        seed = 42\n",
    "        np.random.seed(seed)\n",
    "        if not random_values:\n",
    "            # Initialize weights and biases to zero\n",
    "            self.weights1 = np.zeros((2, 10))\n",
    "            self.weights2 = np.zeros((10, 10))\n",
    "            self.weights3 = np.zeros((10, 2))\n",
    "            self.bias1 = np.zeros((1, 10))\n",
    "            self.bias2 = np.zeros((1, 10))\n",
    "            self.bias3 = np.zeros((1, 2))\n",
    "        else:\n",
    "            # Initialize weights and biases randomly\n",
    "            self.weights1 = np.random.rand(2, 10)\n",
    "            self.weights2 = np.random.rand(10, 10)\n",
    "            self.weights3 = np.random.rand(10, 2)\n",
    "            self.bias1 = np.random.rand(1, 10)\n",
    "            self.bias2 = np.random.rand(1, 10)\n",
    "            self.bias3 = np.random.rand(1, 2)\n",
    "\n",
    "    def forward(self, X, save=False):\n",
    "        self.layer1 = sigmoid(np.dot(X, self.weights1) + self.bias1)\n",
    "        self.layer2 = sigmoid(np.dot(self.layer1, self.weights2) + self.bias2)\n",
    "        self.output = sigmoid(np.dot(self.layer2, self.weights3) + self.bias3)\n",
    "        if save:\n",
    "            self.hidden_layer_outputs.append((self.layer1, self.layer2))\n",
    "        return self.output\n",
    "\n",
    "    def backward(self, X, y, learning_rate):\n",
    "        # error (pred - label)\n",
    "        output_layer_error = self.output - y\n",
    "\n",
    "        # deriv. for weights and biases\n",
    "        d_weights3 = np.dot(self.layer2.T, output_layer_error)\n",
    "        d_bias3 = np.sum(output_layer_error, axis=0, keepdims=True)\n",
    "\n",
    "        # backpropagation\n",
    "        hidden_layer_error2 = np.dot(output_layer_error, self.weights3.T) * sigmoid_derivative(self.layer2)\n",
    "        d_weights2 = np.dot(self.layer1.T, hidden_layer_error2)\n",
    "        d_bias2 = np.sum(hidden_layer_error2, axis=0, keepdims=True)\n",
    "\n",
    "        hidden_layer_error1 = np.dot(hidden_layer_error2, self.weights2.T) * sigmoid_derivative(self.layer1)\n",
    "        d_weights1 = np.dot(X.T, hidden_layer_error1)\n",
    "        d_bias1 = np.sum(hidden_layer_error1, axis=0, keepdims=True)\n",
    "\n",
    "        # Update weights and bias\n",
    "        self.weights3 -= learning_rate * d_weights3\n",
    "        self.bias3 -= learning_rate * d_bias3\n",
    "        self.weights2 -= learning_rate * d_weights2\n",
    "        self.bias2 -= learning_rate * d_bias2\n",
    "        self.weights1 -= learning_rate * d_weights1\n",
    "        self.bias1 -= learning_rate * d_bias1\n",
    "\n",
    "\n",
    "    def train(self, X_train, y_train, epochs, learning_rate):\n",
    "        loss_list = []\n",
    "        for epoch in range(epochs):\n",
    "            # Forward pass\n",
    "            self.forward(X_train)\n",
    "\n",
    "            # Backward pass and weight update\n",
    "            self.backward(X_train, y_train, learning_rate)\n",
    "\n",
    "            # Print the loss every 10 epochs\n",
    "            if epoch % 10 == 0:\n",
    "                loss = cross_entropy(self.forward(X_train), y_train)\n",
    "                loss_list.append((loss, epoch))\n",
    "            if epoch == epochs // 2 or epoch == 0 or epoch == epochs - 1 :\n",
    "                self.forward(X_train, save=True)\n",
    "                \n",
    "        return loss_list\n",
    "\n",
    "    \n",
    "\n",
    "\n",
    "    def weighted_train(self, X_train, y_train, epochs, learning_rate, weight_init):\n",
    "        # Initialize weights and biases randomly with the specified std\n",
    "        rng = np.random.default_rng()\n",
    "        self.weights1 = rng.normal(0, weight_init, size=(2, 10))\n",
    "        self.weights2 = rng.normal(0, weight_init, size=(10, 10))\n",
    "        self.weights3 = rng.normal(0, weight_init, size=(10, 2))\n",
    "        self.bias1 = rng.normal(0, weight_init, size=(1, 10))\n",
    "        self.bias2 = rng.normal(0, weight_init, size=(1, 10))\n",
    "        self.bias3 = rng.normal(0, weight_init, size=(1, 2))\n",
    "        loss_list = []\n",
    "        for epoch in range(epochs):\n",
    "            # Forward pass\n",
    "            self.forward(X_train)\n",
    "\n",
    "            # Backward pass and weight update\n",
    "            self.backward(X_train, y_train, learning_rate)\n",
    "\n",
    "            # Print the loss every 10 epochs\n",
    "            if epoch % 10 == 0:\n",
    "                loss = cross_entropy(self.forward(X_train), y_train)\n",
    "                # print(f\"Epoch {epoch}, Current loss: {loss}\")\n",
    "                loss_list.append((loss, epoch))\n",
    "            if epoch == epochs // 2 or epoch == 0 or epoch == epochs - 1 :\n",
    "                self.forward(X_train, save=True)\n",
    "        return loss_list\n"
   ]
  },
  {
   "cell_type": "code",
   "execution_count": 198,
   "metadata": {},
   "outputs": [],
   "source": [
    "import matplotlib.pyplot as plt\n",
    "\n",
    "def plot_loss_function(evaluation_list):\n",
    "    \"\"\"\n",
    "    Takes a list of tuples (loss value, epoch) and plots it\n",
    "    \"\"\"\n",
    "    loss_list = [item[0] for item in evaluation_list]\n",
    "    epochs = [item[1] for item in evaluation_list]\n",
    "\n",
    "    # Plotting\n",
    "    plt.plot(epochs, loss_list, marker='o', linestyle='-')\n",
    "    plt.xlabel('Epochs')\n",
    "    plt.ylabel('Loss Values')\n",
    "    plt.title('Loss function')\n",
    "    plt.grid(True)\n",
    "    plt.show()"
   ]
  },
  {
   "cell_type": "code",
   "execution_count": 199,
   "metadata": {},
   "outputs": [
    {
     "data": {
      "text/plain": [
       "((410, 2), (410, 2), (82, 2), (82, 2))"
      ]
     },
     "execution_count": 199,
     "metadata": {},
     "output_type": "execute_result"
    }
   ],
   "source": [
    "import pandas as pd\n",
    "from sklearn.preprocessing import StandardScaler\n",
    "\n",
    "# Load training dataset\n",
    "train_df = pd.read_excel(\"./THA3train.xlsx\")\n",
    "X_train = train_df.iloc[:, :-1].values\n",
    "y_train = train_df.iloc[:, -1].values\n",
    "\n",
    "# One-hot encoding for two-class classification\n",
    "y_train_one_hot = np.zeros((y_train.size, y_train.max() + 1))\n",
    "y_train_one_hot[np.arange(y_train.size), y_train] = 1\n",
    "\n",
    "# Standardize training features\n",
    "scaler = StandardScaler()\n",
    "X_train_scaled = scaler.fit_transform(X_train)\n",
    "\n",
    "# Load test dataset\n",
    "test_df = pd.read_excel('./THA3validate.xlsx')\n",
    "X_test = test_df.iloc[:, :-1].values\n",
    "y_test = test_df.iloc[:, -1].values\n",
    "\n",
    "# One-hot encoding\n",
    "y_test_one_hot = np.zeros((y_test.size, y_test.max() + 1))\n",
    "y_test_one_hot[np.arange(y_test.size), y_test] = 1\n",
    "\n",
    "# Standardize\n",
    "X_test_scaled = scaler.transform(X_test)\n",
    "\n",
    "# Print shapes of the datasets\n",
    "X_train_scaled.shape, y_train_one_hot.shape, X_test_scaled.shape, y_test_one_hot.shape\n"
   ]
  },
  {
   "cell_type": "code",
   "execution_count": 209,
   "metadata": {},
   "outputs": [
    {
     "data": {
      "image/png": "[encoded data removed]",
      "text/plain": [
       "<Figure size 640x480 with 1 Axes>"
      ]
     },
     "metadata": {},
     "output_type": "display_data"
    }
   ],
   "source": [
    "\n",
    "\n",
    "# Initialize MLP model\n",
    "mlp = MLP()\n",
    "\n",
    "# Train model\n",
    "evaluation_list = mlp.train(X_train_scaled, y_train_one_hot, epochs=1000, learning_rate=0.004)\n",
    "plot_loss_function(evaluation_list)\n",
    "# print(f\"Hidden layer outputs. All {mlp.hidden_layer_outputs}\")\n",
    "# print(len(mlp.hidden_layer_outputs))\n"
   ]
  },
  {
   "cell_type": "code",
   "execution_count": 201,
   "metadata": {},
   "outputs": [
    {
     "data": {
      "text/plain": [
       "(0.975609756097561,\n",
       " array([[40,  1],\n",
       "        [ 1, 40]], dtype=int64))"
      ]
     },
     "execution_count": 201,
     "metadata": {},
     "output_type": "execute_result"
    }
   ],
   "source": [
    "from sklearn.metrics import accuracy_score, confusion_matrix\n",
    "\n",
    "def evaluate_model(model, X_test, y_test):\n",
    "    # Pred\n",
    "    y_pred = model.forward(X_test)\n",
    "\n",
    "    # Convert predictions and true values to class labels\n",
    "    y_pred_labels = np.argmax(y_pred, axis=1)\n",
    "    y_true_labels = np.argmax(y_test, axis=1)\n",
    "\n",
    "    # Calculate accuracy\n",
    "    accuracy = accuracy_score(y_true_labels, y_pred_labels)\n",
    "\n",
    "    # Calculate confusion matrix\n",
    "    conf_matrix = confusion_matrix(y_true_labels, y_pred_labels)\n",
    "\n",
    "    return accuracy, conf_matrix\n",
    "\n",
    "# Evaluate the model on the validation set\n",
    "accuracy, conf_matrix = evaluate_model(mlp, X_test_scaled, y_test_one_hot)\n",
    "\n",
    "# Print the results\n",
    "accuracy, conf_matrix\n",
    "\n"
   ]
  },
  {
   "cell_type": "markdown",
   "metadata": {},
   "source": [
    "## Part B\n",
    "### Point B - 1\n",
    "\n",
    "First we initialize the model with weights and biases equal to zero, instead of randomizing them."
   ]
  },
  {
   "cell_type": "code",
   "execution_count": 202,
   "metadata": {},
   "outputs": [
    {
     "name": "stdout",
     "output_type": "stream",
     "text": [
      "Performance of the model with zero-initialized parameters:\n",
      "Accuracy: 0.975609756097561\n",
      "Confusion Matrix:\n",
      "[[40  1]\n",
      " [ 1 40]]\n"
     ]
    },
    {
     "data": {
      "image/png": "[encoded data removed]",
      "text/plain": [
       "<Figure size 640x480 with 1 Axes>"
      ]
     },
     "metadata": {},
     "output_type": "display_data"
    }
   ],
   "source": [
    "\n",
    "mlp_zeros = MLP(random_values=True)\n",
    "evaluation_list = mlp_zeros.train(X_train_scaled, y_train_one_hot, epochs=1000, learning_rate=0.004)\n",
    "accuracy_zero_initialized, conf_matrix = evaluate_model(mlp_zeros, X_test_scaled, y_test_one_hot)\n",
    "\n",
    "print(\"Performance of the model with zero-initialized parameters:\")\n",
    "print(f\"Accuracy: {accuracy_zero_initialized}\")\n",
    "print(\"Confusion Matrix:\")\n",
    "print(conf_matrix)\n",
    "\n",
    "plot_loss_function(evaluation_list)"
   ]
  },
  {
   "cell_type": "markdown",
   "metadata": {},
   "source": [
    "In comparison to the best model from Part A, this models loss function gets smaller much faster. It reaches values lower than 0.2 in around 200 epochs, while the model from Part A needs arould 300 epochs to reach similar values. The resulting confusion matrix and accuracy value are essentially the same."
   ]
  },
  {
   "cell_type": "markdown",
   "metadata": {},
   "source": [
    "### Point B - 2"
   ]
  },
  {
   "cell_type": "code",
   "execution_count": 221,
   "metadata": {},
   "outputs": [
    {
     "name": "stderr",
     "output_type": "stream",
     "text": [
      "C:\\Users\\laure\\AppData\\Local\\Temp\\ipykernel_13164\\1956533664.py:2: RuntimeWarning: overflow encountered in exp\n",
      "  return 1 / (1 + np.exp(-x))\n"
     ]
    }
   ],
   "source": [
    "learning_rates = [0.00001, 0.0001, 0.001, 0.01, 0.1]\n",
    "weight_inits = [0.1, 0.2, 0.3, 0.4, 0.5, 0.6, 0.7, 0.8, 0.9, 1.0]\n",
    "\n",
    "results = []\n",
    "\n",
    "for learning_rate in learning_rates:\n",
    "    for weight_init in weight_inits:\n",
    "        mlp = MLP()\n",
    "        loss_list = mlp.weighted_train(X_train_scaled, y_train_one_hot, epochs=1000, learning_rate=learning_rate, weight_init=weight_init)\n",
    "        accuracy, conf_matrix = evaluate_model(mlp, X_test_scaled, y_test_one_hot)\n",
    "        results.append((learning_rate, weight_init, accuracy, conf_matrix, loss_list, mlp.hidden_layer_outputs))\n",
    "\n",
    "\n"
   ]
  },
  {
   "cell_type": "code",
   "execution_count": 222,
   "metadata": {},
   "outputs": [
    {
     "name": "stdout",
     "output_type": "stream",
     "text": [
      "1e-05\n",
      "0.1\n",
      "0.5\n",
      "[[ 0 41]\n",
      " [ 0 41]]\n"
     ]
    }
   ],
   "source": [
    "print(results[0][0])\n",
    "print(results[0][1])\n",
    "print(results[0][2])\n",
    "print(results[0][3])"
   ]
  },
  {
   "cell_type": "code",
   "execution_count": 226,
   "metadata": {},
   "outputs": [],
   "source": [
    "def create_heatmap(weight_inits, learning_rates, accuracies):\n",
    "    \"\"\"\n",
    "    or just create_heatmap(x, y, colour)\n",
    "    \"\"\"\n",
    "\n",
    "    learning_rates_size = len(set(learning_rates))\n",
    "    weight_inits_size = len(set(weight_inits))\n",
    "    print(learning_rates_size)\n",
    "    print(weight_inits_size)\n",
    "\n",
    "    # Reshape the accuracies into a 2D array for the heatmap\n",
    "    accuracy_matrix = np.array(accuracies).reshape(learning_rates_size, weight_inits_size)\n",
    "    \n",
    "\n",
    "    # Create a heatmap\n",
    "    plt.imshow(accuracy_matrix, cmap='viridis', origin='lower', aspect='auto')\n",
    "\n",
    "    # Set axis labels and ticks\n",
    "    plt.xlabel('Weight Initialization (σ^2)')\n",
    "    plt.ylabel('Learning Rate')\n",
    "    plt.xticks(np.arange(weight_inits_size), sorted(set(weight_inits)))\n",
    "    plt.yticks(np.arange(learning_rates_size), sorted(set(learning_rates)))\n",
    "\n",
    "    # Display color bar\n",
    "    cbar = plt.colorbar()\n",
    "    cbar.set_label('Accuracy')\n",
    "\n",
    "    # Show the plot\n",
    "    plt.show()\n"
   ]
  },
  {
   "cell_type": "code",
   "execution_count": 228,
   "metadata": {},
   "outputs": [
    {
     "name": "stdout",
     "output_type": "stream",
     "text": [
      "5\n",
      "10\n"
     ]
    },
    {
     "data": {
      "image/png": "[encoded data removed]",
      "text/plain": [
       "<Figure size 640x480 with 2 Axes>"
      ]
     },
     "metadata": {},
     "output_type": "display_data"
    }
   ],
   "source": [
    "learning_rates = [result[0] for result in results]\n",
    "weight_inits = [result[1] for result in results]\n",
    "accuracies = [result[2] for result in results]\n",
    "create_heatmap(learning_rates, weight_inits, accuracies)"
   ]
  },
  {
   "cell_type": "markdown",
   "metadata": {},
   "source": [
    "### Point B - 3"
   ]
  },
  {
   "cell_type": "code",
   "execution_count": 231,
   "metadata": {},
   "outputs": [
    {
     "name": "stdout",
     "output_type": "stream",
     "text": [
      "Worst one\n",
      "1e-05\n",
      "0.8\n",
      "Accuracy 0.3048780487804878\n",
      "Best one\n",
      "0.01\n",
      "0.2\n",
      "Accuracy 0.7439024390243902\n"
     ]
    }
   ],
   "source": [
    "print(\"Worst one\")\n",
    "worst_result = results[7]\n",
    "print(worst_result[0])\n",
    "print(worst_result[1])\n",
    "print(f\"Accuracy {worst_result[2]}\")\n",
    "print(\"Best one\")\n",
    "best_result = results[31]\n",
    "print(best_result[0])\n",
    "print(best_result[1])\n",
    "print(f\"Accuracy {best_result[2]}\")"
   ]
  },
  {
   "cell_type": "code",
   "execution_count": 230,
   "metadata": {},
   "outputs": [],
   "source": [
    "def one_last_heatmap(resulting_tuple): #CleanCode\n",
    "    # Convert the list of tuples to a 3D NumPy array\n",
    "    heatmap_data = np.array([np.array(t) for t in resulting_tuple[4]])\n",
    "\n",
    "    # Plot the heatmap\n",
    "    plt.imshow(heatmap_data[:, :, 0], cmap='viridis', origin='lower', aspect='auto')\n",
    "\n",
    "    # Set axis labels and ticks\n",
    "    plt.xlabel('Hidden Neuron ID')\n",
    "    plt.ylabel('Data Points ID')\n",
    "\n",
    "    # Show the plot\n",
    "    plt.show()"
   ]
  },
  {
   "cell_type": "code",
   "execution_count": null,
   "metadata": {},
   "outputs": [],
   "source": [
    "one_last_heatmap"
   ]
  }
 ],
 "metadata": {
  "kernelspec": {
   "display_name": "compsci",
   "language": "python",
   "name": "python3"
  },
  "language_info": {
   "codemirror_mode": {
    "name": "ipython",
    "version": 3
   },
   "file_extension": ".py",
   "mimetype": "text/x-python",
   "name": "python",
   "nbconvert_exporter": "python",
   "pygments_lexer": "ipython3",
   "version": "3.12.0"
  }
 },
 "nbformat": 4,
 "nbformat_minor": 2
}
