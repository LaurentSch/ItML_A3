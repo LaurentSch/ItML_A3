{
 "cells": [
  {
   "cell_type": "code",
   "execution_count": 92,
   "metadata": {},
   "outputs": [],
   "source": [
    "import numpy as np\n"
   ]
  },
  {
   "cell_type": "code",
   "execution_count": 93,
   "metadata": {},
   "outputs": [],
   "source": [
    "def sigmoid(x):\n",
    "    return 1 / (1 + np.exp(-x))\n"
   ]
  },
  {
   "cell_type": "code",
   "execution_count": 94,
   "metadata": {},
   "outputs": [],
   "source": [
    "def sigmoid_derivative(x):\n",
    "    return x * (1 - x)"
   ]
  },
  {
   "cell_type": "code",
   "execution_count": 95,
   "metadata": {},
   "outputs": [],
   "source": [
    "def cross_entropy(y_pred, y_true):\n",
    "    # Ensure prediction is not exactly 0 or 1\n",
    "    y_pred = np.clip(y_pred, 1e-12, 1 - 1e-12)\n",
    "    # Calculate cross-entropy loss\n",
    "    return -np.mean(y_true * np.log(y_pred) + (1 - y_true) * np.log(1 - y_pred))\n"
   ]
  },
  {
   "cell_type": "code",
   "execution_count": 96,
   "metadata": {},
   "outputs": [],
   "source": [
    "class MLP:\n",
    "    def __init__(self, random_values=True):\n",
    "        if not random_values:\n",
    "            # Initialize weights and biases to zero\n",
    "            self.weights1 = np.zeros((2, 10))\n",
    "            self.weights2 = np.zeros((10, 10))\n",
    "            self.weights3 = np.zeros((10, 2))\n",
    "            self.bias1 = np.zeros((1, 10))\n",
    "            self.bias2 = np.zeros((1, 10))\n",
    "            self.bias3 = np.zeros((1, 2))\n",
    "        else:\n",
    "            # Initialize weights and biases randomly\n",
    "            self.weights1 = np.random.rand(2, 10)\n",
    "            self.weights2 = np.random.rand(10, 10)\n",
    "            self.weights3 = np.random.rand(10, 2)\n",
    "            self.bias1 = np.random.rand(1, 10)\n",
    "            self.bias2 = np.random.rand(1, 10)\n",
    "            self.bias3 = np.random.rand(1, 2)\n",
    "\n",
    "    def forward(self, X):\n",
    "        self.layer1 = sigmoid(np.dot(X, self.weights1) + self.bias1)\n",
    "        self.layer2 = sigmoid(np.dot(self.layer1, self.weights2) + self.bias2)\n",
    "        self.output = sigmoid(np.dot(self.layer2, self.weights3) + self.bias3)\n",
    "        return self.output\n",
    "\n",
    "    def backward(self, X, y, learning_rate):\n",
    "        # error (pred - label)\n",
    "        output_layer_error = self.output - y\n",
    "\n",
    "        # deriv. for weights and biases\n",
    "        d_weights3 = np.dot(self.layer2.T, output_layer_error)\n",
    "        d_bias3 = np.sum(output_layer_error, axis=0, keepdims=True)\n",
    "\n",
    "        # backpropagation\n",
    "        hidden_layer_error2 = np.dot(output_layer_error, self.weights3.T) * sigmoid_derivative(self.layer2)\n",
    "        d_weights2 = np.dot(self.layer1.T, hidden_layer_error2)\n",
    "        d_bias2 = np.sum(hidden_layer_error2, axis=0, keepdims=True)\n",
    "\n",
    "        hidden_layer_error1 = np.dot(hidden_layer_error2, self.weights2.T) * sigmoid_derivative(self.layer1)\n",
    "        d_weights1 = np.dot(X.T, hidden_layer_error1)\n",
    "        d_bias1 = np.sum(hidden_layer_error1, axis=0, keepdims=True)\n",
    "\n",
    "        # Update weights and bias\n",
    "        self.weights3 -= learning_rate * d_weights3\n",
    "        self.bias3 -= learning_rate * d_bias3\n",
    "        self.weights2 -= learning_rate * d_weights2\n",
    "        self.bias2 -= learning_rate * d_bias2\n",
    "        self.weights1 -= learning_rate * d_weights1\n",
    "        self.bias1 -= learning_rate * d_bias1\n",
    "\n",
    "\n",
    "    def train(self, X_train, y_train, epochs, learning_rate):\n",
    "        loss_list = []\n",
    "        for epoch in range(epochs):\n",
    "            # Forward pass\n",
    "            self.forward(X_train)\n",
    "\n",
    "            # Backward pass and weight update\n",
    "            self.backward(X_train, y_train, learning_rate)\n",
    "\n",
    "            # Print the loss every 10 epochs\n",
    "            if epoch % 10 == 0:\n",
    "                loss = cross_entropy(self.forward(X_train), y_train)\n",
    "                # print(f\"Epoch {epoch}, Current loss: {loss}\")\n",
    "                loss_list.append((loss, epoch))\n",
    "        return loss_list\n"
   ]
  },
  {
   "cell_type": "code",
   "execution_count": 97,
   "metadata": {},
   "outputs": [],
   "source": [
    "import matplotlib.pyplot as plt\n",
    "\n",
    "def plot_loss_function(evaluation_list):\n",
    "    \"\"\"\n",
    "    Takes a list of tuples (loss value, epoch) and plots it\n",
    "    \"\"\"\n",
    "    loss_list = [item[0] for item in evaluation_list]\n",
    "    epochs = [item[1] for item in evaluation_list]\n",
    "\n",
    "    # Plotting\n",
    "    plt.plot(epochs, loss_list, marker='o', linestyle='-')\n",
    "    plt.xlabel('Epochs')\n",
    "    plt.ylabel('Loss Values')\n",
    "    plt.title('Loss function')\n",
    "    plt.grid(True)\n",
    "    plt.show()"
   ]
  },
  {
   "cell_type": "code",
   "execution_count": 98,
   "metadata": {},
   "outputs": [
    {
     "data": {
      "text/plain": [
       "((410, 2), (410, 2), (82, 2), (82, 2))"
      ]
     },
     "execution_count": 98,
     "metadata": {},
     "output_type": "execute_result"
    }
   ],
   "source": [
    "import pandas as pd\n",
    "from sklearn.preprocessing import StandardScaler\n",
    "\n",
    "# Load training dataset\n",
    "train_df = pd.read_excel(\"./THA3train.xlsx\")\n",
    "X_train = train_df.iloc[:, :-1].values\n",
    "y_train = train_df.iloc[:, -1].values\n",
    "\n",
    "# One-hot encoding for two-class classification\n",
    "y_train_one_hot = np.zeros((y_train.size, y_train.max() + 1))\n",
    "y_train_one_hot[np.arange(y_train.size), y_train] = 1\n",
    "\n",
    "# Standardize training features\n",
    "scaler = StandardScaler()\n",
    "X_train_scaled = scaler.fit_transform(X_train)\n",
    "\n",
    "# Load test dataset\n",
    "test_df = pd.read_excel('./THA3validate.xlsx')\n",
    "X_test = test_df.iloc[:, :-1].values\n",
    "y_test = test_df.iloc[:, -1].values\n",
    "\n",
    "# One-hot encoding\n",
    "y_test_one_hot = np.zeros((y_test.size, y_test.max() + 1))\n",
    "y_test_one_hot[np.arange(y_test.size), y_test] = 1\n",
    "\n",
    "# Standardize\n",
    "X_test_scaled = scaler.transform(X_test)\n",
    "\n",
    "# Print shapes of the datasets\n",
    "X_train_scaled.shape, y_train_one_hot.shape, X_test_scaled.shape, y_test_one_hot.shape\n"
   ]
  },
  {
   "cell_type": "code",
   "execution_count": 99,
   "metadata": {},
   "outputs": [
    {
     "data": {
      "image/png": "[encoded data removed]",
      "text/plain": [
       "<Figure size 640x480 with 1 Axes>"
      ]
     },
     "metadata": {},
     "output_type": "display_data"
    }
   ],
   "source": [
    "\n",
    "\n",
    "# Initialize MLP model\n",
    "mlp = MLP()\n",
    "\n",
    "# Train model\n",
    "evaluation_list = mlp.train(X_train_scaled, y_train_one_hot, epochs=1000, learning_rate=0.004)\n",
    "plot_loss_function(evaluation_list)\n"
   ]
  },
  {
   "cell_type": "code",
   "execution_count": 100,
   "metadata": {},
   "outputs": [
    {
     "data": {
      "text/plain": [
       "(0.975609756097561,\n",
       " array([[40,  1],\n",
       "        [ 1, 40]], dtype=int64))"
      ]
     },
     "execution_count": 100,
     "metadata": {},
     "output_type": "execute_result"
    }
   ],
   "source": [
    "from sklearn.metrics import accuracy_score, confusion_matrix\n",
    "\n",
    "def evaluate_model(model, X_test, y_test):\n",
    "    # Pred\n",
    "    y_pred = model.forward(X_test)\n",
    "\n",
    "    # Convert predictions and true values to class labels\n",
    "    y_pred_labels = np.argmax(y_pred, axis=1)\n",
    "    y_true_labels = np.argmax(y_test, axis=1)\n",
    "\n",
    "    # Calculate accuracy\n",
    "    accuracy = accuracy_score(y_true_labels, y_pred_labels)\n",
    "\n",
    "    # Calculate confusion matrix\n",
    "    conf_matrix = confusion_matrix(y_true_labels, y_pred_labels)\n",
    "\n",
    "    return accuracy, conf_matrix\n",
    "\n",
    "# Evaluate the model on the validation set\n",
    "accuracy, conf_matrix = evaluate_model(mlp, X_test_scaled, y_test_one_hot)\n",
    "\n",
    "# Print the results\n",
    "accuracy, conf_matrix\n",
    "\n"
   ]
  },
  {
   "cell_type": "markdown",
   "metadata": {},
   "source": [
    "## Part B\n",
    "\n",
    "First we initialize the model with weights and biases equal to zero, instead of randomizing them."
   ]
  },
  {
   "cell_type": "code",
   "execution_count": 101,
   "metadata": {},
   "outputs": [
    {
     "name": "stdout",
     "output_type": "stream",
     "text": [
      "Performance of the model with zero-initialized parameters:\n",
      "Accuracy: 0.975609756097561\n",
      "Confusion Matrix:\n",
      "[[40  1]\n",
      " [ 1 40]]\n"
     ]
    },
    {
     "data": {
      "image/png": "[encoded data removed]",
      "text/plain": [
       "<Figure size 640x480 with 1 Axes>"
      ]
     },
     "metadata": {},
     "output_type": "display_data"
    }
   ],
   "source": [
    "\n",
    "mlp_zeros = MLP(random_values=True)\n",
    "evaluation_list = mlp_zeros.train(X_train_scaled, y_train_one_hot, epochs=1000, learning_rate=0.004)\n",
    "accuracy_zero_initialized, conf_matrix = evaluate_model(mlp_zeros, X_test_scaled, y_test_one_hot)\n",
    "\n",
    "print(\"Performance of the model with zero-initialized parameters:\")\n",
    "print(f\"Accuracy: {accuracy_zero_initialized}\")\n",
    "print(\"Confusion Matrix:\")\n",
    "print(conf_matrix)\n",
    "\n",
    "plot_loss_function(evaluation_list)"
   ]
  },
  {
   "cell_type": "markdown",
   "metadata": {},
   "source": [
    "In comparison to the best model from Part A, this models loss function gets smaller much faster. It reaches values lower than 0.2 in around 200 epochs, while the model from Part A needs arould 300 epochs to reach similar values."
   ]
  }
 ],
 "metadata": {
  "kernelspec": {
   "display_name": "compsci",
   "language": "python",
   "name": "python3"
  },
  "language_info": {
   "codemirror_mode": {
    "name": "ipython",
    "version": 3
   },
   "file_extension": ".py",
   "mimetype": "text/x-python",
   "name": "python",
   "nbconvert_exporter": "python",
   "pygments_lexer": "ipython3",
   "version": "3.12.0"
  }
 },
 "nbformat": 4,
 "nbformat_minor": 2
}
